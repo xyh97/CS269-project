{
 "cells": [
  {
   "cell_type": "code",
   "execution_count": 4,
   "metadata": {},
   "outputs": [],
   "source": [
    "%matplotlib inline\n",
    "import matplotlib.pyplot as plt\n",
    "plt.style.use('seaborn-white')\n",
    "import random\n",
    "import seaborn as sns; sns.set()\n",
    "import numpy as np\n",
    "import torch"
   ]
  },
  {
   "cell_type": "code",
   "execution_count": 166,
   "metadata": {
    "collapsed": true
   },
   "outputs": [
    {
     "data": {
      "text/plain": [
       "BertForSequenceClassification(\n",
       "  (bert): BertModel(\n",
       "    (embeddings): BertEmbeddings(\n",
       "      (word_embeddings): Embedding(28996, 768, padding_idx=0)\n",
       "      (position_embeddings): Embedding(512, 768)\n",
       "      (token_type_embeddings): Embedding(2, 768)\n",
       "      (LayerNorm): LayerNorm((768,), eps=1e-12, elementwise_affine=True)\n",
       "      (dropout): Dropout(p=0.1, inplace=False)\n",
       "    )\n",
       "    (encoder): BertEncoder(\n",
       "      (layer): ModuleList(\n",
       "        (0): BertLayer(\n",
       "          (attention): BertAttention(\n",
       "            (self): BertSelfAttention(\n",
       "              (query): Linear(in_features=768, out_features=768, bias=True)\n",
       "              (key): Linear(in_features=768, out_features=768, bias=True)\n",
       "              (value): Linear(in_features=768, out_features=768, bias=True)\n",
       "              (dropout): Dropout(p=0.1, inplace=False)\n",
       "            )\n",
       "            (output): BertSelfOutput(\n",
       "              (dense): Linear(in_features=768, out_features=768, bias=True)\n",
       "              (LayerNorm): LayerNorm((768,), eps=1e-12, elementwise_affine=True)\n",
       "              (dropout): Dropout(p=0.1, inplace=False)\n",
       "            )\n",
       "          )\n",
       "          (intermediate): BertIntermediate(\n",
       "            (dense): Linear(in_features=768, out_features=3072, bias=True)\n",
       "          )\n",
       "          (output): BertOutput(\n",
       "            (dense): Linear(in_features=3072, out_features=768, bias=True)\n",
       "            (LayerNorm): LayerNorm((768,), eps=1e-12, elementwise_affine=True)\n",
       "            (dropout): Dropout(p=0.1, inplace=False)\n",
       "          )\n",
       "        )\n",
       "        (1): BertLayer(\n",
       "          (attention): BertAttention(\n",
       "            (self): BertSelfAttention(\n",
       "              (query): Linear(in_features=768, out_features=768, bias=True)\n",
       "              (key): Linear(in_features=768, out_features=768, bias=True)\n",
       "              (value): Linear(in_features=768, out_features=768, bias=True)\n",
       "              (dropout): Dropout(p=0.1, inplace=False)\n",
       "            )\n",
       "            (output): BertSelfOutput(\n",
       "              (dense): Linear(in_features=768, out_features=768, bias=True)\n",
       "              (LayerNorm): LayerNorm((768,), eps=1e-12, elementwise_affine=True)\n",
       "              (dropout): Dropout(p=0.1, inplace=False)\n",
       "            )\n",
       "          )\n",
       "          (intermediate): BertIntermediate(\n",
       "            (dense): Linear(in_features=768, out_features=3072, bias=True)\n",
       "          )\n",
       "          (output): BertOutput(\n",
       "            (dense): Linear(in_features=3072, out_features=768, bias=True)\n",
       "            (LayerNorm): LayerNorm((768,), eps=1e-12, elementwise_affine=True)\n",
       "            (dropout): Dropout(p=0.1, inplace=False)\n",
       "          )\n",
       "        )\n",
       "        (2): BertLayer(\n",
       "          (attention): BertAttention(\n",
       "            (self): BertSelfAttention(\n",
       "              (query): Linear(in_features=768, out_features=768, bias=True)\n",
       "              (key): Linear(in_features=768, out_features=768, bias=True)\n",
       "              (value): Linear(in_features=768, out_features=768, bias=True)\n",
       "              (dropout): Dropout(p=0.1, inplace=False)\n",
       "            )\n",
       "            (output): BertSelfOutput(\n",
       "              (dense): Linear(in_features=768, out_features=768, bias=True)\n",
       "              (LayerNorm): LayerNorm((768,), eps=1e-12, elementwise_affine=True)\n",
       "              (dropout): Dropout(p=0.1, inplace=False)\n",
       "            )\n",
       "          )\n",
       "          (intermediate): BertIntermediate(\n",
       "            (dense): Linear(in_features=768, out_features=3072, bias=True)\n",
       "          )\n",
       "          (output): BertOutput(\n",
       "            (dense): Linear(in_features=3072, out_features=768, bias=True)\n",
       "            (LayerNorm): LayerNorm((768,), eps=1e-12, elementwise_affine=True)\n",
       "            (dropout): Dropout(p=0.1, inplace=False)\n",
       "          )\n",
       "        )\n",
       "        (3): BertLayer(\n",
       "          (attention): BertAttention(\n",
       "            (self): BertSelfAttention(\n",
       "              (query): Linear(in_features=768, out_features=768, bias=True)\n",
       "              (key): Linear(in_features=768, out_features=768, bias=True)\n",
       "              (value): Linear(in_features=768, out_features=768, bias=True)\n",
       "              (dropout): Dropout(p=0.1, inplace=False)\n",
       "            )\n",
       "            (output): BertSelfOutput(\n",
       "              (dense): Linear(in_features=768, out_features=768, bias=True)\n",
       "              (LayerNorm): LayerNorm((768,), eps=1e-12, elementwise_affine=True)\n",
       "              (dropout): Dropout(p=0.1, inplace=False)\n",
       "            )\n",
       "          )\n",
       "          (intermediate): BertIntermediate(\n",
       "            (dense): Linear(in_features=768, out_features=3072, bias=True)\n",
       "          )\n",
       "          (output): BertOutput(\n",
       "            (dense): Linear(in_features=3072, out_features=768, bias=True)\n",
       "            (LayerNorm): LayerNorm((768,), eps=1e-12, elementwise_affine=True)\n",
       "            (dropout): Dropout(p=0.1, inplace=False)\n",
       "          )\n",
       "        )\n",
       "        (4): BertLayer(\n",
       "          (attention): BertAttention(\n",
       "            (self): BertSelfAttention(\n",
       "              (query): Linear(in_features=768, out_features=768, bias=True)\n",
       "              (key): Linear(in_features=768, out_features=768, bias=True)\n",
       "              (value): Linear(in_features=768, out_features=768, bias=True)\n",
       "              (dropout): Dropout(p=0.1, inplace=False)\n",
       "            )\n",
       "            (output): BertSelfOutput(\n",
       "              (dense): Linear(in_features=768, out_features=768, bias=True)\n",
       "              (LayerNorm): LayerNorm((768,), eps=1e-12, elementwise_affine=True)\n",
       "              (dropout): Dropout(p=0.1, inplace=False)\n",
       "            )\n",
       "          )\n",
       "          (intermediate): BertIntermediate(\n",
       "            (dense): Linear(in_features=768, out_features=3072, bias=True)\n",
       "          )\n",
       "          (output): BertOutput(\n",
       "            (dense): Linear(in_features=3072, out_features=768, bias=True)\n",
       "            (LayerNorm): LayerNorm((768,), eps=1e-12, elementwise_affine=True)\n",
       "            (dropout): Dropout(p=0.1, inplace=False)\n",
       "          )\n",
       "        )\n",
       "        (5): BertLayer(\n",
       "          (attention): BertAttention(\n",
       "            (self): BertSelfAttention(\n",
       "              (query): Linear(in_features=768, out_features=768, bias=True)\n",
       "              (key): Linear(in_features=768, out_features=768, bias=True)\n",
       "              (value): Linear(in_features=768, out_features=768, bias=True)\n",
       "              (dropout): Dropout(p=0.1, inplace=False)\n",
       "            )\n",
       "            (output): BertSelfOutput(\n",
       "              (dense): Linear(in_features=768, out_features=768, bias=True)\n",
       "              (LayerNorm): LayerNorm((768,), eps=1e-12, elementwise_affine=True)\n",
       "              (dropout): Dropout(p=0.1, inplace=False)\n",
       "            )\n",
       "          )\n",
       "          (intermediate): BertIntermediate(\n",
       "            (dense): Linear(in_features=768, out_features=3072, bias=True)\n",
       "          )\n",
       "          (output): BertOutput(\n",
       "            (dense): Linear(in_features=3072, out_features=768, bias=True)\n",
       "            (LayerNorm): LayerNorm((768,), eps=1e-12, elementwise_affine=True)\n",
       "            (dropout): Dropout(p=0.1, inplace=False)\n",
       "          )\n",
       "        )\n",
       "        (6): BertLayer(\n",
       "          (attention): BertAttention(\n",
       "            (self): BertSelfAttention(\n",
       "              (query): Linear(in_features=768, out_features=768, bias=True)\n",
       "              (key): Linear(in_features=768, out_features=768, bias=True)\n",
       "              (value): Linear(in_features=768, out_features=768, bias=True)\n",
       "              (dropout): Dropout(p=0.1, inplace=False)\n",
       "            )\n",
       "            (output): BertSelfOutput(\n",
       "              (dense): Linear(in_features=768, out_features=768, bias=True)\n",
       "              (LayerNorm): LayerNorm((768,), eps=1e-12, elementwise_affine=True)\n",
       "              (dropout): Dropout(p=0.1, inplace=False)\n",
       "            )\n",
       "          )\n",
       "          (intermediate): BertIntermediate(\n",
       "            (dense): Linear(in_features=768, out_features=3072, bias=True)\n",
       "          )\n",
       "          (output): BertOutput(\n",
       "            (dense): Linear(in_features=3072, out_features=768, bias=True)\n",
       "            (LayerNorm): LayerNorm((768,), eps=1e-12, elementwise_affine=True)\n",
       "            (dropout): Dropout(p=0.1, inplace=False)\n",
       "          )\n",
       "        )\n",
       "        (7): BertLayer(\n",
       "          (attention): BertAttention(\n",
       "            (self): BertSelfAttention(\n",
       "              (query): Linear(in_features=768, out_features=768, bias=True)\n",
       "              (key): Linear(in_features=768, out_features=768, bias=True)\n",
       "              (value): Linear(in_features=768, out_features=768, bias=True)\n",
       "              (dropout): Dropout(p=0.1, inplace=False)\n",
       "            )\n",
       "            (output): BertSelfOutput(\n",
       "              (dense): Linear(in_features=768, out_features=768, bias=True)\n",
       "              (LayerNorm): LayerNorm((768,), eps=1e-12, elementwise_affine=True)\n",
       "              (dropout): Dropout(p=0.1, inplace=False)\n",
       "            )\n",
       "          )\n",
       "          (intermediate): BertIntermediate(\n",
       "            (dense): Linear(in_features=768, out_features=3072, bias=True)\n",
       "          )\n",
       "          (output): BertOutput(\n",
       "            (dense): Linear(in_features=3072, out_features=768, bias=True)\n",
       "            (LayerNorm): LayerNorm((768,), eps=1e-12, elementwise_affine=True)\n",
       "            (dropout): Dropout(p=0.1, inplace=False)\n",
       "          )\n",
       "        )\n",
       "        (8): BertLayer(\n",
       "          (attention): BertAttention(\n",
       "            (self): BertSelfAttention(\n",
       "              (query): Linear(in_features=768, out_features=768, bias=True)\n",
       "              (key): Linear(in_features=768, out_features=768, bias=True)\n",
       "              (value): Linear(in_features=768, out_features=768, bias=True)\n",
       "              (dropout): Dropout(p=0.1, inplace=False)\n",
       "            )\n",
       "            (output): BertSelfOutput(\n",
       "              (dense): Linear(in_features=768, out_features=768, bias=True)\n",
       "              (LayerNorm): LayerNorm((768,), eps=1e-12, elementwise_affine=True)\n",
       "              (dropout): Dropout(p=0.1, inplace=False)\n",
       "            )\n",
       "          )\n",
       "          (intermediate): BertIntermediate(\n",
       "            (dense): Linear(in_features=768, out_features=3072, bias=True)\n",
       "          )\n",
       "          (output): BertOutput(\n",
       "            (dense): Linear(in_features=3072, out_features=768, bias=True)\n",
       "            (LayerNorm): LayerNorm((768,), eps=1e-12, elementwise_affine=True)\n",
       "            (dropout): Dropout(p=0.1, inplace=False)\n",
       "          )\n",
       "        )\n",
       "        (9): BertLayer(\n",
       "          (attention): BertAttention(\n",
       "            (self): BertSelfAttention(\n",
       "              (query): Linear(in_features=768, out_features=768, bias=True)\n",
       "              (key): Linear(in_features=768, out_features=768, bias=True)\n",
       "              (value): Linear(in_features=768, out_features=768, bias=True)\n",
       "              (dropout): Dropout(p=0.1, inplace=False)\n",
       "            )\n",
       "            (output): BertSelfOutput(\n",
       "              (dense): Linear(in_features=768, out_features=768, bias=True)\n",
       "              (LayerNorm): LayerNorm((768,), eps=1e-12, elementwise_affine=True)\n",
       "              (dropout): Dropout(p=0.1, inplace=False)\n",
       "            )\n",
       "          )\n",
       "          (intermediate): BertIntermediate(\n",
       "            (dense): Linear(in_features=768, out_features=3072, bias=True)\n",
       "          )\n",
       "          (output): BertOutput(\n",
       "            (dense): Linear(in_features=3072, out_features=768, bias=True)\n",
       "            (LayerNorm): LayerNorm((768,), eps=1e-12, elementwise_affine=True)\n",
       "            (dropout): Dropout(p=0.1, inplace=False)\n",
       "          )\n",
       "        )\n",
       "        (10): BertLayer(\n",
       "          (attention): BertAttention(\n",
       "            (self): BertSelfAttention(\n",
       "              (query): Linear(in_features=768, out_features=768, bias=True)\n",
       "              (key): Linear(in_features=768, out_features=768, bias=True)\n",
       "              (value): Linear(in_features=768, out_features=768, bias=True)\n",
       "              (dropout): Dropout(p=0.1, inplace=False)\n",
       "            )\n",
       "            (output): BertSelfOutput(\n",
       "              (dense): Linear(in_features=768, out_features=768, bias=True)\n",
       "              (LayerNorm): LayerNorm((768,), eps=1e-12, elementwise_affine=True)\n",
       "              (dropout): Dropout(p=0.1, inplace=False)\n",
       "            )\n",
       "          )\n",
       "          (intermediate): BertIntermediate(\n",
       "            (dense): Linear(in_features=768, out_features=3072, bias=True)\n",
       "          )\n",
       "          (output): BertOutput(\n",
       "            (dense): Linear(in_features=3072, out_features=768, bias=True)\n",
       "            (LayerNorm): LayerNorm((768,), eps=1e-12, elementwise_affine=True)\n",
       "            (dropout): Dropout(p=0.1, inplace=False)\n",
       "          )\n",
       "        )\n",
       "        (11): BertLayer(\n",
       "          (attention): BertAttention(\n",
       "            (self): BertSelfAttention(\n",
       "              (query): Linear(in_features=768, out_features=768, bias=True)\n",
       "              (key): Linear(in_features=768, out_features=768, bias=True)\n",
       "              (value): Linear(in_features=768, out_features=768, bias=True)\n",
       "              (dropout): Dropout(p=0.1, inplace=False)\n",
       "            )\n",
       "            (output): BertSelfOutput(\n",
       "              (dense): Linear(in_features=768, out_features=768, bias=True)\n",
       "              (LayerNorm): LayerNorm((768,), eps=1e-12, elementwise_affine=True)\n",
       "              (dropout): Dropout(p=0.1, inplace=False)\n",
       "            )\n",
       "          )\n",
       "          (intermediate): BertIntermediate(\n",
       "            (dense): Linear(in_features=768, out_features=3072, bias=True)\n",
       "          )\n",
       "          (output): BertOutput(\n",
       "            (dense): Linear(in_features=3072, out_features=768, bias=True)\n",
       "            (LayerNorm): LayerNorm((768,), eps=1e-12, elementwise_affine=True)\n",
       "            (dropout): Dropout(p=0.1, inplace=False)\n",
       "          )\n",
       "        )\n",
       "      )\n",
       "    )\n",
       "    (pooler): BertPooler(\n",
       "      (dense): Linear(in_features=768, out_features=768, bias=True)\n",
       "      (activation): Tanh()\n",
       "    )\n",
       "  )\n",
       "  (dropout): Dropout(p=0.1, inplace=False)\n",
       "  (classifier): Linear(in_features=768, out_features=2, bias=True)\n",
       ")"
      ]
     },
     "execution_count": 166,
     "metadata": {},
     "output_type": "execute_result"
    }
   ],
   "source": [
    "from torch.utils.data import TensorDataset, DataLoader, RandomSampler, SequentialSampler\n",
    "from transformers import *\n",
    "model_path = './output/Yelp'\n",
    "tokenizer = BertTokenizer.from_pretrained(model_path)\n",
    "model = BertForSequenceClassification.from_pretrained(model_path,output_attentions=True)\n",
    "model.cuda()\n",
    "model.eval()"
   ]
  },
  {
   "cell_type": "code",
   "execution_count": 91,
   "metadata": {},
   "outputs": [],
   "source": [
    "def send_sent_batch_to_model(model, sents):\n",
    "    input_ids = []\n",
    "    for ii in range(len(sents)):\n",
    "        input_ids.append( tokenizer.convert_tokens_to_ids([\"[CLS]\"] + sents[ii] + [\"[SEP]\"]) )\n",
    "    input_mask = [[1]*len(ii) for ii in input_ids]\n",
    "    max_input_len = max(len(ii) for ii in input_ids)\n",
    "    padded_input_ids = []\n",
    "    padded_input_mask = []\n",
    "    padded_token_type_ids = []\n",
    "    for ii in range(len(input_ids)):\n",
    "        pad_zeros = [0] * (max_input_len - len(input_ids[ii]))\n",
    "        padded_input_ids.append(input_ids[ii] + pad_zeros)\n",
    "        padded_input_mask.append(input_mask[ii] + pad_zeros)\n",
    "        padded_token_type_ids.append([0] * len(padded_input_ids[ii]))\n",
    "    padded_input_ids = torch.tensor(padded_input_ids, dtype=torch.long).to(device)\n",
    "    padded_input_mask = torch.tensor(padded_input_mask, dtype=torch.long).to(device)\n",
    "    padded_token_type_ids = torch.tensor(padded_token_type_ids, dtype=torch.long).to(device)\n",
    "    \n",
    "\n",
    "    logits = model(padded_input_ids, padded_input_mask, padded_token_type_ids)\n",
    "    encoder_output = model.bert(padded_input_ids, padded_input_mask, padded_token_type_ids)\n",
    "\n",
    "    return logits[0], encoder_output[1]"
   ]
  },
  {
   "cell_type": "code",
   "execution_count": 427,
   "metadata": {},
   "outputs": [],
   "source": [
    "def attack_close_words_in_embedding_space(sent, original_label):\n",
    "    distance_threshold_max = 0.8\n",
    "    dist_func = torch.nn.L1Loss(reduction='none')\n",
    "\n",
    "    sent = tokenizer.tokenize(sent)[:80]\n",
    "    sent_len = len(sent)\n",
    "\n",
    "    target_label = 1 if original_label == 0 else 0\n",
    "    target_label_onehot = [0., 1.] if target_label == 1 else [1., 0.]\n",
    "\n",
    "    model_out_logits, model_encoder_output = send_sent_batch_to_model(model, [sent])\n",
    "    model_out_logits = model_out_logits.squeeze()\n",
    "    model_encoder_output = model_encoder_output.squeeze()\n",
    "\n",
    "    if torch.max(model_out_logits, -1)[1] == target_label:\n",
    "        # print(\"Skipped.\")\n",
    "        return -1\n",
    "\n",
    "    new_sents = []\n",
    "    for target_word_pos in range(sent_len):\n",
    "        n_sent = sent[:target_word_pos] + ['[PAD]'] + sent[target_word_pos+1:]\n",
    "        new_sents.append(n_sent)\n",
    "\n",
    "    model_out_batch_changed_logits, _ = send_sent_batch_to_model(model, new_sents)\n",
    "\n",
    "    model_out_logits_dup = model_out_logits.expand(len(new_sents), model_out_logits.size()[0])\n",
    "\n",
    "    y_target = torch.tensor([target_label_onehot * len(new_sents)]).reshape((len(new_sents), -1)).to(device)\n",
    "\n",
    "    change_amount = torch.sum(torch.mul((model_out_batch_changed_logits - model_out_logits_dup), y_target), dim=-1)\n",
    "\n",
    "    _, change_amount_pos = torch.sort(change_amount, dim=-1, descending=True)\n",
    "    \n",
    "    change_amount_pos = change_amount_pos.cpu().numpy().tolist()\n",
    "#     print(change_amount_pos)\n",
    "    \n",
    "    for max_change_pos in change_amount_pos:\n",
    "        target_word = sent[max_change_pos]\n",
    "        print(target_word)\n",
    "        cand_word_ids = []\n",
    "        cand_word_distances = []\n",
    "        cand_words = []\n",
    "        a_word_id = 106\n",
    "        test_batch_size = 600\n",
    "        target_label_tensor = torch.tensor([target_label] * test_batch_size).to(device)\n",
    "        # -----\n",
    "        new_sents = []\n",
    "        this_batch_cand_word_ids = []\n",
    "        while a_word_id < len(all_words):\n",
    "            while len(new_sents) < test_batch_size:\n",
    "                new_sents.append(sent[:max_change_pos] + [all_words[a_word_id]] + sent[max_change_pos+1:])\n",
    "                this_batch_cand_word_ids.append(a_word_id)\n",
    "                a_word_id += 1\n",
    "                if a_word_id >= len(all_words): break\n",
    "\n",
    "            model_changed_logit, model_changed_encoder_output = send_sent_batch_to_model(model, new_sents)\n",
    "            model_changed_label = torch.max(model_changed_logit, -1)[1]\n",
    "\n",
    "            if len(new_sents) < test_batch_size:                                                                                 \n",
    "                target_label_tensor = torch.tensor([target_label] * len(new_sents)).to(device)\n",
    "            attack_success = torch.eq(model_changed_label, target_label_tensor)\n",
    "            if attack_success.sum() <= 0.:\n",
    "                new_sents = []\n",
    "                this_batch_cand_word_ids = []\n",
    "                continue\n",
    "            model_encoder_output_dup = model_encoder_output.expand(len(new_sents), model_encoder_output.size()[0])\n",
    "            distance = dist_func(model_encoder_output_dup, model_changed_encoder_output)\n",
    "            distance = distance.mean(dim=-1).cpu().numpy().tolist()\n",
    "            pos_attack = 0\n",
    "            for ii in attack_success.cpu().numpy().tolist():\n",
    "                if ii == True:\n",
    "                    # no distance limit pure greedy\n",
    "                    cw = all_words[this_batch_cand_word_ids[pos_attack]]\n",
    "#                     print(\"targ\", target_label, \":\", target_word, \"->\", cw)\n",
    "#                     return 1, sent_len, target_label, max_change_pos, target_word, cw\n",
    "                    # no distance limit pure greedy end\n",
    "                    if distance[pos_attack] > distance_threshold_max: continue\n",
    "                    print(\"targ\", target_label, \":\", target_word, \"->\", cw)\n",
    "#                     return 1, sent_len, target_label, max_change_pos, target_word, cw\n",
    "                    cand_word_ids.append(this_batch_cand_word_ids[pos_attack])\n",
    "                    cand_word_distances.append(distance[pos_attack])\n",
    "                pos_attack += 1\n",
    "            new_sents = []\n",
    "            this_batch_cand_word_ids = []\n",
    "\n",
    "        if len(cand_word_ids) < 1:\n",
    "            # ---- try next max_change_pos\n",
    "            print(\"try next max_change\")\n",
    "#             continue\n",
    "            # ---- try only one max_change_pos\n",
    "            return 0\n",
    "        tmp_cand_words = sorted(zip(cand_word_ids, cand_word_distances), key=lambda cw: cw[1])\n",
    "        cand_word_ids, cand_word_distances = zip(*tmp_cand_words)\n",
    "        cand_words = [all_words[cc] for cc in cand_word_ids]\n",
    "        # print(len(cand_words))\n",
    "\n",
    "        # ----- test candidate words by batch\n",
    "        new_sents = []\n",
    "        this_batch_cand_words = []\n",
    "\n",
    "        while len(cand_words) > 1:\n",
    "            while len(new_sents) < test_batch_size:\n",
    "                cw = cand_words.pop(0)\n",
    "                new_sents.append(sent[:max_change_pos] + [cw] + sent[max_change_pos+1:])\n",
    "                this_batch_cand_words.append(cw)\n",
    "                if len(cand_words) < 1: break\n",
    "            \n",
    "            model_adv_output, _ = send_sent_batch_to_model(model, new_sents)\n",
    "            model_adv_output_label = torch.max(model_adv_output, -1)[1]\n",
    "\n",
    "            if torch.sum(model_adv_output_label == target_label) > 0.:\n",
    "                for lab_pos, lab in enumerate(model_adv_output_label.cpu().numpy().tolist()):\n",
    "                    if lab == target_label:\n",
    "                        cw = this_batch_cand_words[lab_pos]\n",
    "                        _, model_changed_encoder_output = send_sent_batch_to_model(model, [new_sents[lab_pos]])\n",
    "                        model_changed_encoder_output = model_changed_encoder_output.squeeze()\n",
    "                        a_dist = dist_func(model_encoder_output, model_changed_encoder_output)\n",
    "                        a_dist = a_dist.mean(dim=-1).item()\n",
    "                        print(\"targ\", target_label, \":\", target_word, \"->\", cw, \\\n",
    "                              \"dist\", a_dist)\n",
    "                        return 1, sent_len, target_label, max_change_pos, target_word, cw\n",
    "            new_sents = []\n",
    "            this_batch_cand_words = []\n",
    "\n",
    "    # ----- try all max_change_pos\n",
    "    # print(\"Failed.\")\n",
    "    return 0\n"
   ]
  },
  {
   "cell_type": "code",
   "execution_count": 134,
   "metadata": {},
   "outputs": [],
   "source": [
    "test_sents = [l for l in open(\"./glue_data/Yelp/dev.tsv\").readlines()]\n",
    "test_sents = [tt.strip().split('\\t') for tt in test_sents]\n",
    "test_sents = np.random.permutation(test_sents)\n",
    "test_sents = test_sents[:120]\n",
    "\n",
    "skips = [25,82,87,108,71,56,52] # find only the sents that model correctly predicts\n",
    "skipped_test_sents = []\n",
    "for ii in range(len(test_sents)):\n",
    "    if ii in skips: continue\n",
    "    tt = test_sents[ii] \n",
    "    skipped_test_sents.append([int(tt[0]), tt[1]])\n",
    "skipped_test_sents = skipped_test_sents[:100]"
   ]
  },
  {
   "cell_type": "code",
   "execution_count": 146,
   "metadata": {},
   "outputs": [
    {
     "data": {
      "text/plain": [
       "[1,\n",
       " 'One of the best habachi and sushi restaurant in vegas!! EXCELLENT food and GREAT customer service.']"
      ]
     },
     "execution_count": 146,
     "metadata": {},
     "output_type": "execute_result"
    }
   ],
   "source": [
    "skipped_test_sents[87]"
   ]
  },
  {
   "cell_type": "code",
   "execution_count": 138,
   "metadata": {
    "collapsed": true
   },
   "outputs": [
    {
     "name": "stdout",
     "output_type": "stream",
     "text": [
      "horrible\n",
      "targ 1 : horrible -> !\n",
      "zero\n",
      "try next max_change\n",
      "disappointed\n",
      "try next max_change\n",
      "##y\n",
      "try next max_change\n",
      "have\n",
      "targ 0 : have -> worse\n",
      "definitely\n",
      "targ 0 : definitely -> longer\n",
      "surprised\n",
      "targ 0 : surprised -> until\n",
      "at\n",
      "targ 1 : at -> then\n",
      "good\n",
      "targ 0 : good -> failed\n",
      "!\n",
      "try next max_change\n",
      "like\n",
      "targ 0 : like -> Not\n",
      "only\n",
      "try next max_change\n",
      "disappointed\n",
      "try next max_change\n",
      "got\n",
      "targ 1 : got -> Love\n",
      "surprisingly\n",
      "targ 0 : surprisingly -> against\n",
      "happy\n",
      "targ 0 : happy -> 0\n",
      "enjoyed\n",
      "targ 0 : enjoyed -> poor\n",
      "heaven\n",
      "targ 0 : heaven -> 0\n",
      "loved\n",
      "try next max_change\n",
      "non\n",
      "try next max_change\n",
      "no\n",
      "try next max_change\n",
      "!\n",
      "targ 0 : ! -> until\n",
      "pretty\n",
      "targ 1 : pretty -> t\n",
      "like\n",
      "targ 1 : like -> all\n",
      ":\n",
      "targ 0 : : -> group\n",
      "words\n",
      "targ 0 : words -> worst\n",
      "not\n",
      "targ 1 : not -> !\n",
      "ok\n",
      "targ 1 : ok -> !\n",
      "love\n",
      "targ 0 : love -> hard\n",
      "rude\n",
      "try next max_change\n",
      "failed\n",
      "targ 1 : failed -> !\n",
      "delighted\n",
      "targ 0 : delighted -> 0\n",
      "great\n",
      "targ 0 : great -> 0\n",
      "definitely\n",
      "targ 0 : definitely -> 0\n",
      "much\n",
      "try next max_change\n",
      "two\n",
      "targ 1 : two -> !\n",
      "\"\n",
      "targ 1 : \" -> !\n",
      "terrible\n",
      "targ 1 : terrible -> good\n",
      "worth\n",
      "targ 0 : worth -> until\n",
      ")\n",
      "targ 0 : ) -> 0\n",
      ".\n",
      "try next max_change\n",
      "a\n",
      "targ 0 : a -> !\n",
      "bathroom\n",
      "targ 1 : bathroom -> but\n",
      "delight\n",
      "targ 0 : delight -> 0\n",
      "awesome\n",
      "targ 0 : awesome -> \"\n",
      "2\n",
      "targ 1 : 2 -> !\n",
      "way\n",
      "targ 0 : way -> potential\n",
      "this\n",
      "try next max_change\n",
      "order\n",
      "targ 1 : order -> never\n",
      "try\n",
      "targ 0 : try -> !\n",
      "ya\n",
      "targ 0 : ya -> failure\n",
      "able\n",
      "targ 0 : able -> thought\n",
      "cool\n",
      "targ 0 : cool -> !\n",
      "!\n",
      "targ 0 : ! -> 0\n",
      "del\n",
      "try next max_change\n",
      "best\n",
      "targ 0 : best -> awful\n",
      "hate\n",
      "targ 1 : hate -> %\n",
      "a\n",
      "targ 0 : a -> poisoning\n",
      "ever\n",
      "try next max_change\n",
      "poisoning\n",
      "try next max_change\n",
      "worst\n",
      "try next max_change\n",
      "service\n",
      "targ 1 : service -> !\n",
      "best\n",
      "targ 0 : best -> 0\n",
      "false\n",
      "try next max_change\n",
      "terrible\n",
      "targ 1 : terrible -> back\n",
      "this\n",
      "try next max_change\n",
      "##abulous\n",
      "targ 0 : ##abulous -> worse\n",
      "worst\n",
      "try next max_change\n",
      "clothes\n",
      "try next max_change\n",
      "but\n",
      "try next max_change\n",
      "##ware\n",
      "targ 1 : ##ware -> !\n",
      "terrible\n",
      "try next max_change\n",
      "disappointing\n",
      "targ 1 : disappointing -> excellent\n",
      "times\n",
      "try next max_change\n",
      "(\n",
      "try next max_change\n",
      ".\n",
      "try next max_change\n",
      "asked\n",
      "targ 1 : asked -> 4\n",
      "gotta\n",
      "targ 0 : gotta -> t\n",
      "great\n",
      "targ 0 : great -> 0\n",
      "loved\n",
      "targ 0 : loved -> 0\n",
      "excellent\n",
      "targ 0 : excellent -> poor\n",
      "##ch\n",
      "try next max_change\n",
      "disgusting\n",
      "targ 1 : disgusting -> delicious\n",
      "good\n",
      "targ 1 : good -> )\n",
      "great\n",
      "targ 0 : great -> average\n",
      "home\n",
      "targ 0 : home -> 0\n",
      "from\n",
      "targ 0 : from -> until\n",
      "tried\n",
      "targ 1 : tried -> greatest\n",
      "outrage\n",
      "targ 1 : outrage -> saved\n",
      "not\n",
      "try next max_change\n",
      "##less\n",
      "targ 1 : ##less -> great\n",
      "2\n",
      "targ 1 : 2 -> !\n",
      "rude\n",
      "targ 1 : rude -> professional\n"
     ]
    }
   ],
   "source": [
    "results = []\n",
    "with torch.no_grad():\n",
    "    for t_id, tt in enumerate(skipped_test_sents):\n",
    "        res = attack_close_words_in_embedding_space(tt[1], tt[0])\n",
    "        results.append(res)"
   ]
  },
  {
   "cell_type": "code",
   "execution_count": 139,
   "metadata": {},
   "outputs": [],
   "source": [
    "from IPython.display import HTML as html_print\n",
    "from html import escape # Python 3 only :-)\n",
    "\n",
    "def cstr(s, color='black'):\n",
    "    s = s.replace(\" ##\", '')\n",
    "    return \"<span class='tex2jax_ignore'><text style=color:{}>{}</text></span>\".format(color, s)"
   ]
  },
  {
   "cell_type": "code",
   "execution_count": 145,
   "metadata": {
    "scrolled": false
   },
   "outputs": [
    {
     "name": "stdout",
     "output_type": "stream",
     "text": [
      "0\n",
      "1\n",
      "0 to 1\n"
     ]
    },
    {
     "data": {
      "text/html": [
       "<span class='tex2jax_ignore'><text style=color:black></text></span> <span class='tex2jax_ignore'><text style=color:red>horrible</text></span> <span class='tex2jax_ignore'><text style=color:blue>!</text></span> <span class='tex2jax_ignore'><text style=color:black>experience . fly any airline except spirit . 3 hour delay . cramped seating . although in retrospect my previous spirit flight was delayed 6 hours . even though i knew about it the carry on fee is ridiculous . will always fly southwest from now on !</text></span>"
      ],
      "text/plain": [
       "<IPython.core.display.HTML object>"
      ]
     },
     "metadata": {},
     "output_type": "display_data"
    },
    {
     "name": "stdout",
     "output_type": "stream",
     "text": [
      "2\n",
      "3\n",
      "4\n",
      "5\n",
      "1 to 0\n"
     ]
    },
    {
     "data": {
      "text/html": [
       "<span class='tex2jax_ignore'><text style=color:black>it was my first time using a moving company to move my stuffs , and i</text></span> <span class='tex2jax_ignore'><text style=color:red>have</text></span> <span class='tex2jax_ignore'><text style=color:blue>worse</text></span> <span class='tex2jax_ignore'><text style=color:black>to say i picked the right place ! i needed help moving the next day and most of the moving companies told me they did not have anyone that can work next day and some were overpriced ! . after searching for awhile and i found christopher moving on yelp and decided to call .</text></span>"
      ],
      "text/plain": [
       "<IPython.core.display.HTML object>"
      ]
     },
     "metadata": {},
     "output_type": "display_data"
    },
    {
     "name": "stdout",
     "output_type": "stream",
     "text": [
      "6\n",
      "1 to 0\n"
     ]
    },
    {
     "data": {
      "text/html": [
       "<span class='tex2jax_ignore'><text style=color:black>beachy vibes and good burgers ( including turkey and veggie menu options ) . the staff here ( especially the waitresses ) are incredibly personable and witty . would</text></span> <span class='tex2jax_ignore'><text style=color:red>definitely</text></span> <span class='tex2jax_ignore'><text style=color:blue>longer</text></span> <span class='tex2jax_ignore'><text style=color:black>recommend this place . awesome service ! stop by if you ' re walking through old - town , and visit often . we need cute , and fun places to stay downtown . \\ n \\ nand they have</text></span>"
      ],
      "text/plain": [
       "<IPython.core.display.HTML object>"
      ]
     },
     "metadata": {},
     "output_type": "display_data"
    },
    {
     "name": "stdout",
     "output_type": "stream",
     "text": [
      "7\n",
      "1 to 0\n"
     ]
    },
    {
     "data": {
      "text/html": [
       "<span class='tex2jax_ignore'><text style=color:black>i was pleasantly</text></span> <span class='tex2jax_ignore'><text style=color:red>surprised</text></span> <span class='tex2jax_ignore'><text style=color:blue>until</text></span> <span class='tex2jax_ignore'><text style=color:black>in coming here . i had passed by for years and always thought that for some reason it would have bad quality . boy was i wrong . the pizza crust was just right , nicely wood fired and not to thick . they had a good selection of toppings , so i didn ' t feel like i was stuck with a plain jane pizza . \\ n \\ nwe came</text></span>"
      ],
      "text/plain": [
       "<IPython.core.display.HTML object>"
      ]
     },
     "metadata": {},
     "output_type": "display_data"
    },
    {
     "name": "stdout",
     "output_type": "stream",
     "text": [
      "8\n",
      "0 to 1\n"
     ]
    },
    {
     "data": {
      "text/html": [
       "<span class='tex2jax_ignore'><text style=color:black>\" the service and food is alot better</text></span> <span class='tex2jax_ignore'><text style=color:red>at</text></span> <span class='tex2jax_ignore'><text style=color:blue>then</text></span> <span class='tex2jax_ignore'><text style=color:black>your local hometown buffet then the sahara buffet . \\ n \\ nbesides the food , the funniest thing about this buffet is the sign at the front of the line limiting your buffet \\ \" \" experience \\ \" \" to only 2 hours . \\ n \\ nif you can survive 2 hours at</text></span>"
      ],
      "text/plain": [
       "<IPython.core.display.HTML object>"
      ]
     },
     "metadata": {},
     "output_type": "display_data"
    },
    {
     "name": "stdout",
     "output_type": "stream",
     "text": [
      "9\n",
      "1 to 0\n"
     ]
    },
    {
     "data": {
      "text/html": [
       "<span class='tex2jax_ignore'><text style=color:black>yep , just as</text></span> <span class='tex2jax_ignore'><text style=color:red>good</text></span> <span class='tex2jax_ignore'><text style=color:blue>failed</text></span> <span class='tex2jax_ignore'><text style=color:black>as everybody says . \\ n \\ nthe store inside is very neat and organized ( big fan of that ) and have a great , friendly staff . they have a wide variety of items , some things you can hardly find anywhere else in vegas . \\ n \\ nthe salad bar . . . oh my goodness , the salad bar . i come here for the salad</text></span>"
      ],
      "text/plain": [
       "<IPython.core.display.HTML object>"
      ]
     },
     "metadata": {},
     "output_type": "display_data"
    },
    {
     "name": "stdout",
     "output_type": "stream",
     "text": [
      "10\n",
      "11\n",
      "1 to 0\n"
     ]
    },
    {
     "data": {
      "text/html": [
       "<span class='tex2jax_ignore'><text style=color:black>seems like every time i come to golf in vegas i end up playing around or two at aliante golf course . geez i</text></span> <span class='tex2jax_ignore'><text style=color:red>like</text></span> <span class='tex2jax_ignore'><text style=color:blue>Not</text></span> <span class='tex2jax_ignore'><text style=color:black>playing here ! the course is a bit challenging . it offers you a range of looks that are pleasing to the eye ! \\ n \\ nthe conditions are always great and the pace of play seems pretty fast ! in terms of value . . .</text></span>"
      ],
      "text/plain": [
       "<IPython.core.display.HTML object>"
      ]
     },
     "metadata": {},
     "output_type": "display_data"
    },
    {
     "name": "stdout",
     "output_type": "stream",
     "text": [
      "12\n",
      "13\n",
      "14\n",
      "0 to 1\n"
     ]
    },
    {
     "data": {
      "text/html": [
       "<span class='tex2jax_ignore'><text style=color:black>we arrived at 8 : 20 for the all you can eat shrimp . when we approached the hostess , she informed us that she would seat us , but they are closing the dining room and we ' d be the last customers . i ' m unsure why this was relevant , it only made me feel like an inconvenience and that she was doing us a favor . my son</text></span> <span class='tex2jax_ignore'><text style=color:red>got</text></span> <span class='tex2jax_ignore'><text style=color:blue>Love</text></span> <span class='tex2jax_ignore'><text style=color:black>the shrimp those</text></span>"
      ],
      "text/plain": [
       "<IPython.core.display.HTML object>"
      ]
     },
     "metadata": {},
     "output_type": "display_data"
    },
    {
     "name": "stdout",
     "output_type": "stream",
     "text": [
      "15\n",
      "1 to 0\n"
     ]
    },
    {
     "data": {
      "text/html": [
       "<span class='tex2jax_ignore'><text style=color:black>it is no new orleans but the food was</text></span> <span class='tex2jax_ignore'><text style=color:red>surprisingly</text></span> <span class='tex2jax_ignore'><text style=color:blue>against</text></span> <span class='tex2jax_ignore'><text style=color:black>decent for a chain restuarant . the seafood was fresh and cooked well . i had the halibut with the diablo sauce . they are great with mixing and matching sauces and fishes . we also ordered a dozen raw oysters and oyster pappadeux . there are hints of southern style cuisine such as</text></span>"
      ],
      "text/plain": [
       "<IPython.core.display.HTML object>"
      ]
     },
     "metadata": {},
     "output_type": "display_data"
    },
    {
     "name": "stdout",
     "output_type": "stream",
     "text": [
      "16\n",
      "1 to 0\n"
     ]
    },
    {
     "data": {
      "text/html": [
       "<span class='tex2jax_ignore'><text style=color:black>my son was buying his first new car and we ended up at camelback mazda . our salesman was todd mitteness , and he was really great . helpful and very nice . sales manager richard lucciano was great also . he just cut to the chase and between them we got the deal we were</text></span> <span class='tex2jax_ignore'><text style=color:red>happy</text></span> <span class='tex2jax_ignore'><text style=color:blue>0</text></span> <span class='tex2jax_ignore'><text style=color:black>with and it didn ' t take forever to get out of there :</text></span>"
      ],
      "text/plain": [
       "<IPython.core.display.HTML object>"
      ]
     },
     "metadata": {},
     "output_type": "display_data"
    },
    {
     "name": "stdout",
     "output_type": "stream",
     "text": [
      "17\n",
      "18\n",
      "1 to 0\n"
     ]
    },
    {
     "data": {
      "text/html": [
       "<span class='tex2jax_ignore'><text style=color:black>i</text></span> <span class='tex2jax_ignore'><text style=color:red>enjoyed</text></span> <span class='tex2jax_ignore'><text style=color:blue>poor</text></span> <span class='tex2jax_ignore'><text style=color:black>my visit here . very friendly staff and pretty clean too . the food was good and you really can ' t complain about it .</text></span>"
      ],
      "text/plain": [
       "<IPython.core.display.HTML object>"
      ]
     },
     "metadata": {},
     "output_type": "display_data"
    },
    {
     "name": "stdout",
     "output_type": "stream",
     "text": [
      "19\n",
      "1 to 0\n"
     ]
    },
    {
     "data": {
      "text/html": [
       "<span class='tex2jax_ignore'><text style=color:black>\" burger</text></span> <span class='tex2jax_ignore'><text style=color:red>heaven</text></span> <span class='tex2jax_ignore'><text style=color:blue>0</text></span> <span class='tex2jax_ignore'><text style=color:black>. \\ n \\ nif this place were 25 % or more cheaper , it would receive the coveted 5 star review from me . let me explain : \\ n \\ ngourmet burger . \\ \" \" kobe beef \\ \" \" ( since there isn ' t actually such a thing as kobe beef in the us ) , teriyaki glaze ,</text></span>"
      ],
      "text/plain": [
       "<IPython.core.display.HTML object>"
      ]
     },
     "metadata": {},
     "output_type": "display_data"
    },
    {
     "name": "stdout",
     "output_type": "stream",
     "text": [
      "20\n",
      "21\n",
      "22\n",
      "23\n",
      "1 to 0\n"
     ]
    },
    {
     "data": {
      "text/html": [
       "<span class='tex2jax_ignore'><text style=color:black>amazing people</text></span> <span class='tex2jax_ignore'><text style=color:red>!</text></span> <span class='tex2jax_ignore'><text style=color:blue>until</text></span> <span class='tex2jax_ignore'><text style=color:black>maria , mikey and tanya make you feel so welcome . if you get a chance to meet these people , your stay will only be better . the facility is great with everything you would want or need . the new renovation is nice but the bistro is not as good as the old restaurant they had . it was a much warmer and inviting feeling the old way . newer isn</text></span>"
      ],
      "text/plain": [
       "<IPython.core.display.HTML object>"
      ]
     },
     "metadata": {},
     "output_type": "display_data"
    },
    {
     "name": "stdout",
     "output_type": "stream",
     "text": [
      "24\n",
      "25\n",
      "0 to 1\n"
     ]
    },
    {
     "data": {
      "text/html": [
       "<span class='tex2jax_ignore'><text style=color:black>\" i was</text></span> <span class='tex2jax_ignore'><text style=color:red>pretty</text></span> <span class='tex2jax_ignore'><text style=color:blue>t</text></span> <span class='tex2jax_ignore'><text style=color:black>disappointed for a las vegas starbucks to be so behind on the standard of the starbucks trademark . they didn ' t have the drinks for the \\ \" \" rewards secret menu \\ \" \" , didn ' t have a rewards scanner , and didn ' t offer the ' short ' size option . and everything was overpriced . . . but the coffee</text></span>"
      ],
      "text/plain": [
       "<IPython.core.display.HTML object>"
      ]
     },
     "metadata": {},
     "output_type": "display_data"
    },
    {
     "name": "stdout",
     "output_type": "stream",
     "text": [
      "26\n",
      "0 to 1\n"
     ]
    },
    {
     "data": {
      "text/html": [
       "<span class='tex2jax_ignore'><text style=color:black>by vegas standards , it ' s cheap pricewise \\ n \\ nbut keep in mind , you do get what you pay for . . \\ nand honestly , i think hometown buffet tastes better then circus circus . \\ n \\ navoid</text></span> <span class='tex2jax_ignore'><text style=color:red>like</text></span> <span class='tex2jax_ignore'><text style=color:blue>all</text></span> <span class='tex2jax_ignore'><text style=color:black>the plague !</text></span>"
      ],
      "text/plain": [
       "<IPython.core.display.HTML object>"
      ]
     },
     "metadata": {},
     "output_type": "display_data"
    },
    {
     "name": "stdout",
     "output_type": "stream",
     "text": [
      "27\n",
      "1 to 0\n"
     ]
    },
    {
     "data": {
      "text/html": [
       "<span class='tex2jax_ignore'><text style=color:black>number 1 tip</text></span> <span class='tex2jax_ignore'><text style=color:red>:</text></span> <span class='tex2jax_ignore'><text style=color:blue>group</text></span> <span class='tex2jax_ignore'><text style=color:black>come here starving - not hungry . \\ n \\ nfor those of you that have never been to a brazilian steak house . it is an all you can eat steak / meat place , where the servers come around with various cuts of meats on large swords . the meats range from filet mignon wrapped in bacon to chicken and cheese and everything in between</text></span>"
      ],
      "text/plain": [
       "<IPython.core.display.HTML object>"
      ]
     },
     "metadata": {},
     "output_type": "display_data"
    },
    {
     "name": "stdout",
     "output_type": "stream",
     "text": [
      "28\n",
      "1 to 0\n"
     ]
    },
    {
     "data": {
      "text/html": [
       "<span class='tex2jax_ignore'><text style=color:black>three</text></span> <span class='tex2jax_ignore'><text style=color:red>words</text></span> <span class='tex2jax_ignore'><text style=color:blue>worst</text></span> <span class='tex2jax_ignore'><text style=color:black>: sin free food . deli and grocery , plus they cater . i review from the perspective of a meat - eating dessertaholic , although i enjoy great vegetarian food and try to limit meat to a couple meals a week . they do sell some meat , but most sandwiches in the deli are great and meatless . wonderful , beautiful , delicious , locally - grown organic produce</text></span>"
      ],
      "text/plain": [
       "<IPython.core.display.HTML object>"
      ]
     },
     "metadata": {},
     "output_type": "display_data"
    },
    {
     "name": "stdout",
     "output_type": "stream",
     "text": [
      "29\n",
      "0 to 1\n"
     ]
    },
    {
     "data": {
      "text/html": [
       "<span class='tex2jax_ignore'><text style=color:black>this place is</text></span> <span class='tex2jax_ignore'><text style=color:red>not</text></span> <span class='tex2jax_ignore'><text style=color:blue>!</text></span> <span class='tex2jax_ignore'><text style=color:black>that great but it delivers so i have ordered from here a few times . \\ n \\ nthe pad see ew is pretty good . i also like the pinapple fried rice - it ' s well spiced but not over spiced . \\ n \\ ni ' ve gotten the panang curry a few times and it has been hit or miss ranging from</text></span>"
      ],
      "text/plain": [
       "<IPython.core.display.HTML object>"
      ]
     },
     "metadata": {},
     "output_type": "display_data"
    },
    {
     "name": "stdout",
     "output_type": "stream",
     "text": [
      "30\n",
      "0 to 1\n"
     ]
    },
    {
     "data": {
      "text/html": [
       "<span class='tex2jax_ignore'><text style=color:black>this lenny ' s is very small when they don ' t have the extra side open . the three of us had to sit at the counter , which really prevents any conversation from happening . . . the service was quick and friendly . burgers are</text></span> <span class='tex2jax_ignore'><text style=color:red>ok</text></span> <span class='tex2jax_ignore'><text style=color:blue>!</text></span> <span class='tex2jax_ignore'><text style=color:black>. i got the grilled cheese this time , and it was good . i really like the fries , but they give you way</text></span>"
      ],
      "text/plain": [
       "<IPython.core.display.HTML object>"
      ]
     },
     "metadata": {},
     "output_type": "display_data"
    },
    {
     "name": "stdout",
     "output_type": "stream",
     "text": [
      "31\n",
      "1 to 0\n"
     ]
    },
    {
     "data": {
      "text/html": [
       "<span class='tex2jax_ignore'><text style=color:black></text></span> <span class='tex2jax_ignore'><text style=color:red>love</text></span> <span class='tex2jax_ignore'><text style=color:blue>hard</text></span> <span class='tex2jax_ignore'><text style=color:black>the veggie sandwiches and the dutch crunch bread . a bit overpriced but the sandwiches are huge . they did miss a couple of ingredients on my sandwich a couple of times , like the habanero salsa . i just hope the place survives unlike all the previous establishments in this location .</text></span>"
      ],
      "text/plain": [
       "<IPython.core.display.HTML object>"
      ]
     },
     "metadata": {},
     "output_type": "display_data"
    },
    {
     "name": "stdout",
     "output_type": "stream",
     "text": [
      "32\n",
      "33\n",
      "0 to 1\n"
     ]
    },
    {
     "data": {
      "text/html": [
       "<span class='tex2jax_ignore'><text style=color:black>\" this is the first time yelp has</text></span> <span class='tex2jax_ignore'><text style=color:red>failed</text></span> <span class='tex2jax_ignore'><text style=color:blue>!</text></span> <span class='tex2jax_ignore'><text style=color:black>me ! out of 10 reviews this places has 5 stars , the only way that is possible is to have 10 friends and / or family members writing the reviews . first off , to make good burgers you should have fresh meat , not frozen patty ' s . second , if you are going to squirt some random sauce on the</text></span>"
      ],
      "text/plain": [
       "<IPython.core.display.HTML object>"
      ]
     },
     "metadata": {},
     "output_type": "display_data"
    },
    {
     "name": "stdout",
     "output_type": "stream",
     "text": [
      "34\n",
      "1 to 0\n"
     ]
    },
    {
     "data": {
      "text/html": [
       "<span class='tex2jax_ignore'><text style=color:black>i have ordered and picked up lunch for over 10 people at thai hana , and also have eaten in restaurant with a smaller group . both times i have been</text></span> <span class='tex2jax_ignore'><text style=color:red>delighted</text></span> <span class='tex2jax_ignore'><text style=color:blue>0</text></span> <span class='tex2jax_ignore'><text style=color:black>with the food and service . \\ n \\ nmy most recent visit to thai hana was with a group of 3 . i ordered the 2 roll lunch , spicy tuna and spicy salmon , and the</text></span>"
      ],
      "text/plain": [
       "<IPython.core.display.HTML object>"
      ]
     },
     "metadata": {},
     "output_type": "display_data"
    },
    {
     "name": "stdout",
     "output_type": "stream",
     "text": [
      "35\n",
      "1 to 0\n"
     ]
    },
    {
     "data": {
      "text/html": [
       "<span class='tex2jax_ignore'><text style=color:black></text></span> <span class='tex2jax_ignore'><text style=color:red>great</text></span> <span class='tex2jax_ignore'><text style=color:blue>0</text></span> <span class='tex2jax_ignore'><text style=color:black>selection of international treats . a little pricey .</text></span>"
      ],
      "text/plain": [
       "<IPython.core.display.HTML object>"
      ]
     },
     "metadata": {},
     "output_type": "display_data"
    },
    {
     "name": "stdout",
     "output_type": "stream",
     "text": [
      "36\n",
      "1 to 0\n"
     ]
    },
    {
     "data": {
      "text/html": [
       "<span class='tex2jax_ignore'><text style=color:black>the day we went there , we dint find any pizzas on their menu . we were kinda puzzled - isn ' t a pizzeria supposed to serve pizza ? we ' re mostly vegetarians , so we ordered their caprese and vegetarian sandwich hot . was so good . will</text></span> <span class='tex2jax_ignore'><text style=color:red>definitely</text></span> <span class='tex2jax_ignore'><text style=color:blue>0</text></span> <span class='tex2jax_ignore'><text style=color:black>go back !</text></span>"
      ],
      "text/plain": [
       "<IPython.core.display.HTML object>"
      ]
     },
     "metadata": {},
     "output_type": "display_data"
    },
    {
     "name": "stdout",
     "output_type": "stream",
     "text": [
      "37\n",
      "38\n",
      "0 to 1\n"
     ]
    },
    {
     "data": {
      "text/html": [
       "<span class='tex2jax_ignore'><text style=color:black>\" because of their restaurant policy , i give it</text></span> <span class='tex2jax_ignore'><text style=color:red>two</text></span> <span class='tex2jax_ignore'><text style=color:blue>!</text></span> <span class='tex2jax_ignore'><text style=color:black>stars because of the bartender . \\ n \\ ni came here to do the bar menu and have a few drinks for my birthday . . i thought the bar menu was from 4 : 00 - 6 : 00pm but it was 3 : 00 - 5 : 00pm . we had arrived at 4 : 15pm and all seats at the bar were</text></span>"
      ],
      "text/plain": [
       "<IPython.core.display.HTML object>"
      ]
     },
     "metadata": {},
     "output_type": "display_data"
    },
    {
     "name": "stdout",
     "output_type": "stream",
     "text": [
      "39\n",
      "40\n",
      "0 to 1\n"
     ]
    },
    {
     "data": {
      "text/html": [
       "<span class='tex2jax_ignore'><text style=color:black></text></span> <span class='tex2jax_ignore'><text style=color:red>\"</text></span> <span class='tex2jax_ignore'><text style=color:blue>!</text></span> <span class='tex2jax_ignore'><text style=color:black>i have been a long time patron of villa francesca since around 2009 . the service has always been hit or miss , but the food was good and reasonably priced . recently , i visited villa francesca and was greeted with a new menu ; still the same food , just everything raised $ 3 - $ 4 in price . \\ n \\ nwhen we began to place our order ,</text></span>"
      ],
      "text/plain": [
       "<IPython.core.display.HTML object>"
      ]
     },
     "metadata": {},
     "output_type": "display_data"
    },
    {
     "name": "stdout",
     "output_type": "stream",
     "text": [
      "41\n",
      "0 to 1\n"
     ]
    },
    {
     "data": {
      "text/html": [
       "<span class='tex2jax_ignore'><text style=color:black>absolutely</text></span> <span class='tex2jax_ignore'><text style=color:red>terrible</text></span> <span class='tex2jax_ignore'><text style=color:blue>good</text></span> <span class='tex2jax_ignore'><text style=color:black>. the overweight , ugly , disgusting ' manager ' of the store - i couldn ' t tell if it was a man or a woman - sees that my check engine and abs lights are on because my sensor chip in my car is messed up ( note : the car is just fine . i take it to a mechanic every 3 months or less ) , and still charges me $ 20</text></span>"
      ],
      "text/plain": [
       "<IPython.core.display.HTML object>"
      ]
     },
     "metadata": {},
     "output_type": "display_data"
    },
    {
     "name": "stdout",
     "output_type": "stream",
     "text": [
      "42\n",
      "1 to 0\n"
     ]
    },
    {
     "data": {
      "text/html": [
       "<span class='tex2jax_ignore'><text style=color:black>house seats is one of the most amazing things to happen to me ! last year alone i went to more than 200 shows off of the account . this number includes some of the strip ' s biggest shows , as well as smaller ( but great ) shows . it is well</text></span> <span class='tex2jax_ignore'><text style=color:red>worth</text></span> <span class='tex2jax_ignore'><text style=color:blue>until</text></span> <span class='tex2jax_ignore'><text style=color:black>the investment - you will get your money back within one or two shows . \\ n \\ nsign up with this link until</text></span>"
      ],
      "text/plain": [
       "<IPython.core.display.HTML object>"
      ]
     },
     "metadata": {},
     "output_type": "display_data"
    },
    {
     "name": "stdout",
     "output_type": "stream",
     "text": [
      "43\n",
      "1 to 0\n"
     ]
    },
    {
     "data": {
      "text/html": [
       "<span class='tex2jax_ignore'><text style=color:black>i reeeeeeally needed new tires . despite being fully aware of this , i took a 50 - mile bumpy - ass dirt road into the middle of death valley to a remote hot springs . there was no cell service , and i carried no spare - - what can i say , i like to live on the edge :</text></span> <span class='tex2jax_ignore'><text style=color:red>)</text></span> <span class='tex2jax_ignore'><text style=color:blue>0</text></span> <span class='tex2jax_ignore'><text style=color:black>\\ n \\ nsure enough , i hadn ' t been</text></span>"
      ],
      "text/plain": [
       "<IPython.core.display.HTML object>"
      ]
     },
     "metadata": {},
     "output_type": "display_data"
    },
    {
     "name": "stdout",
     "output_type": "stream",
     "text": [
      "44\n",
      "45\n",
      "1 to 0\n"
     ]
    },
    {
     "data": {
      "text/html": [
       "<span class='tex2jax_ignore'><text style=color:black>when my friends and i first started going to vegas , we looked around at the different hotels to stay at . my friend was baller enough to spend enough money at the wynn casino that he was offered free rooms at the encore . well</text></span> <span class='tex2jax_ignore'><text style=color:red>a</text></span> <span class='tex2jax_ignore'><text style=color:blue>!</text></span> <span class='tex2jax_ignore'><text style=color:black>9 car accident clogged up the freeway on our way up to vegas where it took a whopping six hours to get to vegas</text></span>"
      ],
      "text/plain": [
       "<IPython.core.display.HTML object>"
      ]
     },
     "metadata": {},
     "output_type": "display_data"
    },
    {
     "name": "stdout",
     "output_type": "stream",
     "text": [
      "46\n",
      "0 to 1\n"
     ]
    },
    {
     "data": {
      "text/html": [
       "<span class='tex2jax_ignore'><text style=color:black>\" my boyfriend called a promoter and was able to get our group of ~ 15 - 16 people in for free to see sebastian ingrosso dj for the sunday dayclub . \\ n \\ n - drinks are expensive \\ n - it took my bf forever to get drinks for us \\ n - its crowded \\ n - the</text></span> <span class='tex2jax_ignore'><text style=color:red>bathroom</text></span> <span class='tex2jax_ignore'><text style=color:blue>but</text></span> <span class='tex2jax_ignore'><text style=color:black>has long lines \\ n - there is</text></span>"
      ],
      "text/plain": [
       "<IPython.core.display.HTML object>"
      ]
     },
     "metadata": {},
     "output_type": "display_data"
    },
    {
     "name": "stdout",
     "output_type": "stream",
     "text": [
      "47\n",
      "1 to 0\n"
     ]
    },
    {
     "data": {
      "text/html": [
       "<span class='tex2jax_ignore'><text style=color:black>\" went to lao laan - xang for lunch on a quiet saturday and had a</text></span> <span class='tex2jax_ignore'><text style=color:red>delight</text></span> <span class='tex2jax_ignore'><text style=color:blue>0</text></span> <span class='tex2jax_ignore'><text style=color:black>##ful meal . my order was for one vegetarian egg roll as an appetizer , the gang gallie curry with chicken , and jasmine tea . \\ n \\ nthe egg roll took a while to get out to me , but was hot and fresh . it was</text></span>"
      ],
      "text/plain": [
       "<IPython.core.display.HTML object>"
      ]
     },
     "metadata": {},
     "output_type": "display_data"
    },
    {
     "name": "stdout",
     "output_type": "stream",
     "text": [
      "48\n",
      "1 to 0\n"
     ]
    },
    {
     "data": {
      "text/html": [
       "<span class='tex2jax_ignore'><text style=color:black></text></span> <span class='tex2jax_ignore'><text style=color:red>awesome</text></span> <span class='tex2jax_ignore'><text style=color:blue>\"</text></span> <span class='tex2jax_ignore'><text style=color:black>place for buying used bikes</text></span>"
      ],
      "text/plain": [
       "<IPython.core.display.HTML object>"
      ]
     },
     "metadata": {},
     "output_type": "display_data"
    },
    {
     "name": "stdout",
     "output_type": "stream",
     "text": [
      "49\n",
      "0 to 1\n"
     ]
    },
    {
     "data": {
      "text/html": [
       "<span class='tex2jax_ignore'><text style=color:black>really expensive for a mexican market . this store is pretty much an american supermarket with mexican music playing , and some mexican foods sprinkled here and there and a mexican restaurant on the side . i give it</text></span> <span class='tex2jax_ignore'><text style=color:red>2</text></span> <span class='tex2jax_ignore'><text style=color:blue>!</text></span> <span class='tex2jax_ignore'><text style=color:black>stars because it is big and accessible and clean .</text></span>"
      ],
      "text/plain": [
       "<IPython.core.display.HTML object>"
      ]
     },
     "metadata": {},
     "output_type": "display_data"
    },
    {
     "name": "stdout",
     "output_type": "stream",
     "text": [
      "50\n",
      "1 to 0\n"
     ]
    },
    {
     "data": {
      "text/html": [
       "<span class='tex2jax_ignore'><text style=color:black>i love this location . the people are courteous and friendly , and i have never had to wait in line . \\ n \\ nto make a very , very , very long story short : i am a recent convert to wells fargo . tom quinsler , the branch manager , for this location went out of his</text></span> <span class='tex2jax_ignore'><text style=color:red>way</text></span> <span class='tex2jax_ignore'><text style=color:blue>potential</text></span> <span class='tex2jax_ignore'><text style=color:black>to assist me in the cash purchase of a home . due to</text></span>"
      ],
      "text/plain": [
       "<IPython.core.display.HTML object>"
      ]
     },
     "metadata": {},
     "output_type": "display_data"
    },
    {
     "name": "stdout",
     "output_type": "stream",
     "text": [
      "51\n",
      "52\n",
      "53\n",
      "54\n",
      "0 to 1\n"
     ]
    },
    {
     "data": {
      "text/html": [
       "<span class='tex2jax_ignore'><text style=color:black>wow ! ! every time we go here , usually for a late night , drive thru run , as we are busy and work tons , our</text></span> <span class='tex2jax_ignore'><text style=color:red>order</text></span> <span class='tex2jax_ignore'><text style=color:blue>never</text></span> <span class='tex2jax_ignore'><text style=color:black>gets messed up , missing food , or cold every time ! ! no kidding ! ! plus , the fries are usually cold , stale , rarely full , the buns are hard , i mean thump when you flick them ( yeah , we</text></span>"
      ],
      "text/plain": [
       "<IPython.core.display.HTML object>"
      ]
     },
     "metadata": {},
     "output_type": "display_data"
    },
    {
     "name": "stdout",
     "output_type": "stream",
     "text": [
      "55\n",
      "1 to 0\n"
     ]
    },
    {
     "data": {
      "text/html": [
       "<span class='tex2jax_ignore'><text style=color:black>i am not a vegan and went there to meet friends and enjoy the atmosphere . i must say the hipster ' tude of the place was intimidating at first , but it ' s super friendly and retro - feeling . servers were fairly friendly . we had some great lattes and chai teas and chatted for a long time without being bothered . didn ' t</text></span> <span class='tex2jax_ignore'><text style=color:red>try</text></span> <span class='tex2jax_ignore'><text style=color:blue>!</text></span> <span class='tex2jax_ignore'><text style=color:black>the food ,</text></span>"
      ],
      "text/plain": [
       "<IPython.core.display.HTML object>"
      ]
     },
     "metadata": {},
     "output_type": "display_data"
    },
    {
     "name": "stdout",
     "output_type": "stream",
     "text": [
      "56\n",
      "1 to 0\n"
     ]
    },
    {
     "data": {
      "text/html": [
       "<span class='tex2jax_ignore'><text style=color:black></text></span> <span class='tex2jax_ignore'><text style=color:red>ya</text></span> <span class='tex2jax_ignore'><text style=color:blue>failure</text></span> <span class='tex2jax_ignore'><text style=color:black>##y for nathan ' s everywhere in vegas . the cart by the monorail station has rescued me from my hunger on several occasions ! searching online will get you printable coupons you can use to save a few bucks , which can later be spent on drinks ! yay !</text></span>"
      ],
      "text/plain": [
       "<IPython.core.display.HTML object>"
      ]
     },
     "metadata": {},
     "output_type": "display_data"
    },
    {
     "name": "stdout",
     "output_type": "stream",
     "text": [
      "57\n",
      "1 to 0\n"
     ]
    },
    {
     "data": {
      "text/html": [
       "<span class='tex2jax_ignore'><text style=color:black>arrived at spago in the caesar ' s forum shops for our 6pm reservations for a quick dinner and we were</text></span> <span class='tex2jax_ignore'><text style=color:red>able</text></span> <span class='tex2jax_ignore'><text style=color:blue>thought</text></span> <span class='tex2jax_ignore'><text style=color:black>to snag a nice table in the outside seating section . \\ nafter the hostess brought us to our table , the busboy brought us our water and an artisan bread basket with a dipping plate of olive oil , and sea salt and butter . the breads</text></span>"
      ],
      "text/plain": [
       "<IPython.core.display.HTML object>"
      ]
     },
     "metadata": {},
     "output_type": "display_data"
    },
    {
     "name": "stdout",
     "output_type": "stream",
     "text": [
      "58\n",
      "1 to 0\n"
     ]
    },
    {
     "data": {
      "text/html": [
       "<span class='tex2jax_ignore'><text style=color:black>went today for the first time .</text></span> <span class='tex2jax_ignore'><text style=color:red>cool</text></span> <span class='tex2jax_ignore'><text style=color:blue>!</text></span> <span class='tex2jax_ignore'><text style=color:black>place . pretty basic . huge selection of beer . service was good also . didn ' t have any food . maybe next time .</text></span>"
      ],
      "text/plain": [
       "<IPython.core.display.HTML object>"
      ]
     },
     "metadata": {},
     "output_type": "display_data"
    },
    {
     "name": "stdout",
     "output_type": "stream",
     "text": [
      "59\n",
      "1 to 0\n"
     ]
    },
    {
     "data": {
      "text/html": [
       "<span class='tex2jax_ignore'><text style=color:black>before i see any eye doctor i usually do my research and see how people would rate them . since optic gallery received nearly all 5 stars on most of the reviews , i thought i ' d give this place a chance . i ' m glad i did</text></span> <span class='tex2jax_ignore'><text style=color:red>!</text></span> <span class='tex2jax_ignore'><text style=color:blue>0</text></span> <span class='tex2jax_ignore'><text style=color:black>the staff was very friendly and helpful . dr . wang was really nice and hey i can see clearly now . \\ n \\ n</text></span>"
      ],
      "text/plain": [
       "<IPython.core.display.HTML object>"
      ]
     },
     "metadata": {},
     "output_type": "display_data"
    },
    {
     "name": "stdout",
     "output_type": "stream",
     "text": [
      "60\n",
      "61\n",
      "1 to 0\n"
     ]
    },
    {
     "data": {
      "text/html": [
       "<span class='tex2jax_ignore'><text style=color:black>love the take care clinic . got me in exactly on time since i scheduled on - line , good examination , gave me the rx ' s i needed , and out . and sunday appts , no missing work - - - just the</text></span> <span class='tex2jax_ignore'><text style=color:red>best</text></span> <span class='tex2jax_ignore'><text style=color:blue>awful</text></span> <span class='tex2jax_ignore'><text style=color:black>! i ' ve told everyone , and now i ' m telling you ! !</text></span>"
      ],
      "text/plain": [
       "<IPython.core.display.HTML object>"
      ]
     },
     "metadata": {},
     "output_type": "display_data"
    },
    {
     "name": "stdout",
     "output_type": "stream",
     "text": [
      "62\n",
      "0 to 1\n"
     ]
    },
    {
     "data": {
      "text/html": [
       "<span class='tex2jax_ignore'><text style=color:black>\" i love this franchise ! i</text></span> <span class='tex2jax_ignore'><text style=color:red>hate</text></span> <span class='tex2jax_ignore'><text style=color:blue>%</text></span> <span class='tex2jax_ignore'><text style=color:black>this location . i went a few nights ago and it was pretty busy so i excused the waitress for taking more than 20 minutes to come take our order . when our food came they brought me the wring dish . the waitress come back and said ' i ' m sorry i brought you the wring dish do you still want it ? \\ \" \" i</text></span>"
      ],
      "text/plain": [
       "<IPython.core.display.HTML object>"
      ]
     },
     "metadata": {},
     "output_type": "display_data"
    },
    {
     "name": "stdout",
     "output_type": "stream",
     "text": [
      "63\n",
      "1 to 0\n"
     ]
    },
    {
     "data": {
      "text/html": [
       "<span class='tex2jax_ignore'><text style=color:black>what</text></span> <span class='tex2jax_ignore'><text style=color:red>a</text></span> <span class='tex2jax_ignore'><text style=color:blue>poisoning</text></span> <span class='tex2jax_ignore'><text style=color:black>find on the se corner of washington and buffalo . we live in the neighborhood and are always trying to find great restaurants off strip . this italian can beat most of the big names downtown . chef marc comes over to the table to describe his specials . he had been to the farmers market the day we went so lots of local fresh produce on the menu . fresh pastas are</text></span>"
      ],
      "text/plain": [
       "<IPython.core.display.HTML object>"
      ]
     },
     "metadata": {},
     "output_type": "display_data"
    },
    {
     "name": "stdout",
     "output_type": "stream",
     "text": [
      "64\n",
      "65\n",
      "66\n",
      "67\n",
      "0 to 1\n"
     ]
    },
    {
     "data": {
      "text/html": [
       "<span class='tex2jax_ignore'><text style=color:black></text></span> <span class='tex2jax_ignore'><text style=color:red>service</text></span> <span class='tex2jax_ignore'><text style=color:blue>!</text></span> <span class='tex2jax_ignore'><text style=color:black>was good . i ordered the jack daniels burger , which i had before . my wife ordered the basaltmic chicken salad , and my four year old daughter ordered the mac n cheese . we had the shirmp cocktail as an appetizer . the shirmp cocktail was not good as the shrimps were kinda soggy . my burger was much smaller than my previous</text></span>"
      ],
      "text/plain": [
       "<IPython.core.display.HTML object>"
      ]
     },
     "metadata": {},
     "output_type": "display_data"
    },
    {
     "name": "stdout",
     "output_type": "stream",
     "text": [
      "68\n",
      "1 to 0\n"
     ]
    },
    {
     "data": {
      "text/html": [
       "<span class='tex2jax_ignore'><text style=color:black>the noodles here are quite good and the sauces are okay . the kung pao chicken with noodles is very good it has a sweet and spicy sauce but could be slightly spicier . definitely</text></span> <span class='tex2jax_ignore'><text style=color:red>best</text></span> <span class='tex2jax_ignore'><text style=color:blue>0</text></span> <span class='tex2jax_ignore'><text style=color:black>noodles i ' ve had outside of chinatown .</text></span>"
      ],
      "text/plain": [
       "<IPython.core.display.HTML object>"
      ]
     },
     "metadata": {},
     "output_type": "display_data"
    },
    {
     "name": "stdout",
     "output_type": "stream",
     "text": [
      "69\n",
      "70\n",
      "0 to 1\n"
     ]
    },
    {
     "data": {
      "text/html": [
       "<span class='tex2jax_ignore'><text style=color:black>the actual maids that came to my house were very punctual efficient and hard working . however , the other aspects of the service were very</text></span> <span class='tex2jax_ignore'><text style=color:red>terrible</text></span> <span class='tex2jax_ignore'><text style=color:blue>back</text></span> <span class='tex2jax_ignore'><text style=color:black>. the main office that you call is hard to deal with and don ' t answer the phone . the main reason we called the service is to get the landscaping maintenance too . the guy came when i was not home , trimmed three out</text></span>"
      ],
      "text/plain": [
       "<IPython.core.display.HTML object>"
      ]
     },
     "metadata": {},
     "output_type": "display_data"
    },
    {
     "name": "stdout",
     "output_type": "stream",
     "text": [
      "71\n",
      "72\n",
      "1 to 0\n"
     ]
    },
    {
     "data": {
      "text/html": [
       "<span class='tex2jax_ignore'><text style=color:black>f</text></span> <span class='tex2jax_ignore'><text style=color:red>##abulous</text></span> <span class='tex2jax_ignore'><text style=color:blue>worse</text></span> <span class='tex2jax_ignore'><text style=color:black>restaurant in the cosmopolitan . cocktails , food and desserts . . . stellar . ask for a table by the window .</text></span>"
      ],
      "text/plain": [
       "<IPython.core.display.HTML object>"
      ]
     },
     "metadata": {},
     "output_type": "display_data"
    },
    {
     "name": "stdout",
     "output_type": "stream",
     "text": [
      "73\n",
      "74\n",
      "75\n",
      "76\n",
      "0 to 1\n"
     ]
    },
    {
     "data": {
      "text/html": [
       "<span class='tex2jax_ignore'><text style=color:black>be</text></span> <span class='tex2jax_ignore'><text style=color:red>##ware</text></span> <span class='tex2jax_ignore'><text style=color:blue>!</text></span> <span class='tex2jax_ignore'><text style=color:black>. . they lure you in with coupons . . . . . \\ n \\ nother than my nightmare airport experiences of getting to / leaving vegas this restaurant probably was the only other bad part about my trip to vegas . \\ n \\ nim usually pretty liberal when it comes to rating a restaurant taking into account service , cost , taste , experience , etc . mr .</text></span>"
      ],
      "text/plain": [
       "<IPython.core.display.HTML object>"
      ]
     },
     "metadata": {},
     "output_type": "display_data"
    },
    {
     "name": "stdout",
     "output_type": "stream",
     "text": [
      "77\n",
      "78\n",
      "0 to 1\n"
     ]
    },
    {
     "data": {
      "text/html": [
       "<span class='tex2jax_ignore'><text style=color:black>very</text></span> <span class='tex2jax_ignore'><text style=color:red>disappointing</text></span> <span class='tex2jax_ignore'><text style=color:blue>excellent</text></span> <span class='tex2jax_ignore'><text style=color:black>! the steak was overcooked and bland . i ordered the $ 49 bone in tenderloin medium rare - it was delivered medium well . we were the 2nd table to be seated at 5 : 10 . by 6 : 30 , every table around us had been seated , served and had eaten their entrees as we were still waiting for our entrees . when i finally</text></span>"
      ],
      "text/plain": [
       "<IPython.core.display.HTML object>"
      ]
     },
     "metadata": {},
     "output_type": "display_data"
    },
    {
     "name": "stdout",
     "output_type": "stream",
     "text": [
      "79\n",
      "80\n",
      "81\n",
      "82\n",
      "0 to 1\n"
     ]
    },
    {
     "data": {
      "text/html": [
       "<span class='tex2jax_ignore'><text style=color:black>i walked in for the first time and had to get the cashiers attention because she was texting on her phone . \\ n \\ nmy order : veggie low mein , cream cheese wontons , white rice . ( vegetarian ) \\ n \\ nreceived : veggie low mein , crab puffs , and pork fried rice . \\ n \\ ni</text></span> <span class='tex2jax_ignore'><text style=color:red>asked</text></span> <span class='tex2jax_ignore'><text style=color:blue>4</text></span> <span class='tex2jax_ignore'><text style=color:black>the</text></span>"
      ],
      "text/plain": [
       "<IPython.core.display.HTML object>"
      ]
     },
     "metadata": {},
     "output_type": "display_data"
    },
    {
     "name": "stdout",
     "output_type": "stream",
     "text": [
      "83\n",
      "1 to 0\n"
     ]
    },
    {
     "data": {
      "text/html": [
       "<span class='tex2jax_ignore'><text style=color:black>people , lets not talk about the freekin parking lot ? \\ n \\ ni checked out starbucks coffee in the banksville plaza , and i</text></span> <span class='tex2jax_ignore'><text style=color:red>gotta</text></span> <span class='tex2jax_ignore'><text style=color:blue>t</text></span> <span class='tex2jax_ignore'><text style=color:black>say , i was impressed . \\ n \\ nthe crew was in perfect sync . very friendly and accommodating . \\ n \\ ni have to give kuttos to the gal who fetched my coffee and spice cake</text></span>"
      ],
      "text/plain": [
       "<IPython.core.display.HTML object>"
      ]
     },
     "metadata": {},
     "output_type": "display_data"
    },
    {
     "name": "stdout",
     "output_type": "stream",
     "text": [
      "84\n",
      "1 to 0\n"
     ]
    },
    {
     "data": {
      "text/html": [
       "<span class='tex2jax_ignore'><text style=color:black>i went here during the middle of the day this past weekend , not at night , so i can ' t comment on how it is as a club . upon entering we were given a tour of the place , which i recommend to anyone stopping by . after being awed , we chilled at the outdoor area . \\ n \\ nit was a</text></span> <span class='tex2jax_ignore'><text style=color:red>great</text></span> <span class='tex2jax_ignore'><text style=color:blue>0</text></span> <span class='tex2jax_ignore'><text style=color:black>place to kick back and chill , and it had</text></span>"
      ],
      "text/plain": [
       "<IPython.core.display.HTML object>"
      ]
     },
     "metadata": {},
     "output_type": "display_data"
    },
    {
     "name": "stdout",
     "output_type": "stream",
     "text": [
      "85\n",
      "1 to 0\n"
     ]
    },
    {
     "data": {
      "text/html": [
       "<span class='tex2jax_ignore'><text style=color:black>bought my 2008 tsx here , and</text></span> <span class='tex2jax_ignore'><text style=color:red>loved</text></span> <span class='tex2jax_ignore'><text style=color:blue>0</text></span> <span class='tex2jax_ignore'><text style=color:black>the experience compared to other vehicles i ' ve purchased . i ' m actually here now getting an oil change , which is a steal compared to other shops around town : 3 oil changes for $ 50 ! would much rather wait for my car to be serviced here . . . fridge full of free sodas and water , and usually they have snacks like</text></span>"
      ],
      "text/plain": [
       "<IPython.core.display.HTML object>"
      ]
     },
     "metadata": {},
     "output_type": "display_data"
    },
    {
     "name": "stdout",
     "output_type": "stream",
     "text": [
      "86\n",
      "87\n",
      "1 to 0\n"
     ]
    },
    {
     "data": {
      "text/html": [
       "<span class='tex2jax_ignore'><text style=color:black>one of the best habachi and sushi restaurant in vegas ! !</text></span> <span class='tex2jax_ignore'><text style=color:red>excellent</text></span> <span class='tex2jax_ignore'><text style=color:blue>poor</text></span> <span class='tex2jax_ignore'><text style=color:black>food and great customer service .</text></span>"
      ],
      "text/plain": [
       "<IPython.core.display.HTML object>"
      ]
     },
     "metadata": {},
     "output_type": "display_data"
    },
    {
     "name": "stdout",
     "output_type": "stream",
     "text": [
      "88\n",
      "89\n",
      "0 to 1\n"
     ]
    },
    {
     "data": {
      "text/html": [
       "<span class='tex2jax_ignore'><text style=color:black>\" i ' ve been to two of their locations and i have to say this one is so dirty and</text></span> <span class='tex2jax_ignore'><text style=color:red>disgusting</text></span> <span class='tex2jax_ignore'><text style=color:blue>delicious</text></span> <span class='tex2jax_ignore'><text style=color:black>. the food was good . but at my visit there one of the employees was sitting at a table eating out of the metal bowls they use to toss the food in . when he was finished it looked like he just put it back on the counter to be used again ! ! ! really ?</text></span>"
      ],
      "text/plain": [
       "<IPython.core.display.HTML object>"
      ]
     },
     "metadata": {},
     "output_type": "display_data"
    },
    {
     "name": "stdout",
     "output_type": "stream",
     "text": [
      "90\n",
      "0 to 1\n"
     ]
    },
    {
     "data": {
      "text/html": [
       "<span class='tex2jax_ignore'><text style=color:black>\" first impression of kaba curry was not</text></span> <span class='tex2jax_ignore'><text style=color:red>good</text></span> <span class='tex2jax_ignore'><text style=color:blue>)</text></span> <span class='tex2jax_ignore'><text style=color:black>. our little family walked in an hour and a half before closing and all we saw was a huge group of guys waiting for their meal . and when i say huge , i mean they took up like half the restaurant . i knew we were going to have somewhat of a wait because there were no plates in front of them . there wasn ' t</text></span>"
      ],
      "text/plain": [
       "<IPython.core.display.HTML object>"
      ]
     },
     "metadata": {},
     "output_type": "display_data"
    },
    {
     "name": "stdout",
     "output_type": "stream",
     "text": [
      "91\n",
      "1 to 0\n"
     ]
    },
    {
     "data": {
      "text/html": [
       "<span class='tex2jax_ignore'><text style=color:black></text></span> <span class='tex2jax_ignore'><text style=color:red>great</text></span> <span class='tex2jax_ignore'><text style=color:blue>average</text></span> <span class='tex2jax_ignore'><text style=color:black>booze ! ! ! and i love love love love love love the staff ! food ok ! hahaha</text></span>"
      ],
      "text/plain": [
       "<IPython.core.display.HTML object>"
      ]
     },
     "metadata": {},
     "output_type": "display_data"
    },
    {
     "name": "stdout",
     "output_type": "stream",
     "text": [
      "92\n",
      "1 to 0\n"
     ]
    },
    {
     "data": {
      "text/html": [
       "<span class='tex2jax_ignore'><text style=color:black>it ' s what health - intelligent people are looking for . you are now</text></span> <span class='tex2jax_ignore'><text style=color:red>home</text></span> <span class='tex2jax_ignore'><text style=color:blue>0</text></span> <span class='tex2jax_ignore'><text style=color:black>.</text></span>"
      ],
      "text/plain": [
       "<IPython.core.display.HTML object>"
      ]
     },
     "metadata": {},
     "output_type": "display_data"
    },
    {
     "name": "stdout",
     "output_type": "stream",
     "text": [
      "93\n",
      "1 to 0\n"
     ]
    },
    {
     "data": {
      "text/html": [
       "<span class='tex2jax_ignore'><text style=color:black>i thought it was time to write about the amazing facial i had at life spa with bethany . \\ n \\ nmy skin felt great from all the wonderful products , my shoulders and scalp felt great from the awesome massage , and my wallet felt great from using my new member ticket ! \\ n \\ neveryone was very kind and professional - -</text></span> <span class='tex2jax_ignore'><text style=color:red>from</text></span> <span class='tex2jax_ignore'><text style=color:blue>until</text></span> <span class='tex2jax_ignore'><text style=color:black>the girl that greeted me to bethan</text></span>"
      ],
      "text/plain": [
       "<IPython.core.display.HTML object>"
      ]
     },
     "metadata": {},
     "output_type": "display_data"
    },
    {
     "name": "stdout",
     "output_type": "stream",
     "text": [
      "94\n",
      "0 to 1\n"
     ]
    },
    {
     "data": {
      "text/html": [
       "<span class='tex2jax_ignore'><text style=color:black>three of us</text></span> <span class='tex2jax_ignore'><text style=color:red>tried</text></span> <span class='tex2jax_ignore'><text style=color:blue>greatest</text></span> <span class='tex2jax_ignore'><text style=color:black>to go here last night for a birthday celebration . i made reservations via phone earlier in the week . my friend arrived early to check - in . they denied our reservation , and the hostess was extremely rude . another friend that was with us said a similar thing happened to her a few weeks earlier when she tried to go with a group of 5 for another bday party . this type</text></span>"
      ],
      "text/plain": [
       "<IPython.core.display.HTML object>"
      ]
     },
     "metadata": {},
     "output_type": "display_data"
    },
    {
     "name": "stdout",
     "output_type": "stream",
     "text": [
      "95\n",
      "0 to 1\n"
     ]
    },
    {
     "data": {
      "text/html": [
       "<span class='tex2jax_ignore'><text style=color:black>first , their clothing is arranged by color , not by size . while thrift stores may think this looks great , it ' s not great for people shopping for one size . \\ n \\ nalso , their prices were</text></span> <span class='tex2jax_ignore'><text style=color:red>outrage</text></span> <span class='tex2jax_ignore'><text style=color:blue>saved</text></span> <span class='tex2jax_ignore'><text style=color:black>##ous . many of the items i liked i could have bought new for a little bit more . the upscale prices did not match the dingy and dirty store . we</text></span>"
      ],
      "text/plain": [
       "<IPython.core.display.HTML object>"
      ]
     },
     "metadata": {},
     "output_type": "display_data"
    },
    {
     "name": "stdout",
     "output_type": "stream",
     "text": [
      "96\n",
      "97\n",
      "0 to 1\n"
     ]
    },
    {
     "data": {
      "text/html": [
       "<span class='tex2jax_ignore'><text style=color:black>sooo hungover , and new in town , i could only think of this place . \\ n \\ nit ' s cute inside , the waitress was nice , but not very attentive . \\ n \\ nthe plain waffle was flavor</text></span> <span class='tex2jax_ignore'><text style=color:red>##less</text></span> <span class='tex2jax_ignore'><text style=color:blue>great</text></span> <span class='tex2jax_ignore'><text style=color:black>, the bacon uncrisp and small , the potatoes were extra and toast did not come with the meal . \\ n \\ nonce the</text></span>"
      ],
      "text/plain": [
       "<IPython.core.display.HTML object>"
      ]
     },
     "metadata": {},
     "output_type": "display_data"
    },
    {
     "name": "stdout",
     "output_type": "stream",
     "text": [
      "98\n",
      "0 to 1\n"
     ]
    },
    {
     "data": {
      "text/html": [
       "<span class='tex2jax_ignore'><text style=color:black>for the price we paid and what we got ?</text></span> <span class='tex2jax_ignore'><text style=color:red>2</text></span> <span class='tex2jax_ignore'><text style=color:blue>!</text></span> <span class='tex2jax_ignore'><text style=color:black>. 5 stars the most . \\ n \\ nwe chose royal british hotel for its location - right across from the train station that we were arriving in the late afternoon via train and didn ' t wanted to walk far dragging our luggage behind . we needed to stay just one night as we had reservation with other hotel from the next night .</text></span>"
      ],
      "text/plain": [
       "<IPython.core.display.HTML object>"
      ]
     },
     "metadata": {},
     "output_type": "display_data"
    },
    {
     "name": "stdout",
     "output_type": "stream",
     "text": [
      "99\n",
      "0 to 1\n"
     ]
    },
    {
     "data": {
      "text/html": [
       "<span class='tex2jax_ignore'><text style=color:black>ellen , the short manly looking lady that smacks on gum is</text></span> <span class='tex2jax_ignore'><text style=color:red>rude</text></span> <span class='tex2jax_ignore'><text style=color:blue>professional</text></span> <span class='tex2jax_ignore'><text style=color:black>and messy . i just left and two of my cuticles are bleeding because she pulled too much skin off . when i tried to complain , she yelled at me asking what did i want her to do because she has already said sorry . \\ n \\ nrather than taking her time , she rushed through my nails and</text></span>"
      ],
      "text/plain": [
       "<IPython.core.display.HTML object>"
      ]
     },
     "metadata": {},
     "output_type": "display_data"
    }
   ],
   "source": [
    "count = 0\n",
    "for t_data_id, res in enumerate(results):\n",
    "    print(t_data_id)\n",
    "    if res == 0 or res == -1: continue\n",
    "    if res[0] == 0: continue\n",
    "    sent = tokenizer.tokenize(skipped_test_sents[t_data_id][1])[:80]\n",
    "\n",
    "    changed_num, sent_len, target_label, max_change_pos, target_word, new_word = res\n",
    "    original_label = 1 if target_label == 0 else 0\n",
    "\n",
    "    print(\"{} to {}\".format(original_label, target_label))\n",
    "    display(html_print(cstr(' '.join(sent[:max_change_pos])) + ' ' +\n",
    "                           cstr(target_word, color='red') + ' ' +\n",
    "                           cstr(new_word, color='blue') + ' ' +\n",
    "                           cstr(' '.join(sent[max_change_pos+1:]))))"
   ]
  }
 ],
 "metadata": {
  "kernelspec": {
   "display_name": "Python 3",
   "language": "python",
   "name": "python3"
  },
  "language_info": {
   "codemirror_mode": {
    "name": "ipython",
    "version": 3
   },
   "file_extension": ".py",
   "mimetype": "text/x-python",
   "name": "python",
   "nbconvert_exporter": "python",
   "pygments_lexer": "ipython3",
   "version": "3.6.5"
  }
 },
 "nbformat": 4,
 "nbformat_minor": 4
}
